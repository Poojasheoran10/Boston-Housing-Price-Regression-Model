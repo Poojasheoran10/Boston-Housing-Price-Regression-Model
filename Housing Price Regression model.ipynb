{
 "cells": [
  {
   "cell_type": "code",
   "execution_count": 1,
   "id": "b1a74826",
   "metadata": {},
   "outputs": [],
   "source": [
    "import pandas as pd\n",
    "import numpy as np\n",
    "import statsmodels.api as sm\n",
    "import matplotlib.pyplot as plt\n",
    "import seaborn as sns\n",
    "import plotly.express as px\n",
    "import statistics\n",
    "from scipy.stats import shapiro"
   ]
  },
  {
   "cell_type": "code",
   "execution_count": 2,
   "id": "51684553",
   "metadata": {},
   "outputs": [],
   "source": [
    "data=pd.read_csv(r\"C:\\Users\\aniru\\OneDrive\\Desktop\\MVPA\\Unmesh Patnaik\\Group assignment\\Housing.csv\")"
   ]
  },
  {
   "cell_type": "code",
   "execution_count": 3,
   "id": "9934daef",
   "metadata": {},
   "outputs": [
    {
     "data": {
      "text/html": [
       "<div>\n",
       "<style scoped>\n",
       "    .dataframe tbody tr th:only-of-type {\n",
       "        vertical-align: middle;\n",
       "    }\n",
       "\n",
       "    .dataframe tbody tr th {\n",
       "        vertical-align: top;\n",
       "    }\n",
       "\n",
       "    .dataframe thead th {\n",
       "        text-align: right;\n",
       "    }\n",
       "</style>\n",
       "<table border=\"1\" class=\"dataframe\">\n",
       "  <thead>\n",
       "    <tr style=\"text-align: right;\">\n",
       "      <th></th>\n",
       "      <th>price</th>\n",
       "      <th>area</th>\n",
       "      <th>bedrooms</th>\n",
       "      <th>bathrooms</th>\n",
       "      <th>stories</th>\n",
       "      <th>mainroad</th>\n",
       "      <th>guestroom</th>\n",
       "      <th>basement</th>\n",
       "      <th>hotwaterheating</th>\n",
       "      <th>airconditioning</th>\n",
       "      <th>parking</th>\n",
       "      <th>prefarea</th>\n",
       "      <th>furnishingstatus</th>\n",
       "    </tr>\n",
       "  </thead>\n",
       "  <tbody>\n",
       "    <tr>\n",
       "      <th>0</th>\n",
       "      <td>13300000</td>\n",
       "      <td>7420</td>\n",
       "      <td>4</td>\n",
       "      <td>2</td>\n",
       "      <td>3</td>\n",
       "      <td>yes</td>\n",
       "      <td>no</td>\n",
       "      <td>no</td>\n",
       "      <td>no</td>\n",
       "      <td>yes</td>\n",
       "      <td>2</td>\n",
       "      <td>yes</td>\n",
       "      <td>furnished</td>\n",
       "    </tr>\n",
       "    <tr>\n",
       "      <th>1</th>\n",
       "      <td>12250000</td>\n",
       "      <td>8960</td>\n",
       "      <td>4</td>\n",
       "      <td>4</td>\n",
       "      <td>4</td>\n",
       "      <td>yes</td>\n",
       "      <td>no</td>\n",
       "      <td>no</td>\n",
       "      <td>no</td>\n",
       "      <td>yes</td>\n",
       "      <td>3</td>\n",
       "      <td>no</td>\n",
       "      <td>furnished</td>\n",
       "    </tr>\n",
       "    <tr>\n",
       "      <th>2</th>\n",
       "      <td>12250000</td>\n",
       "      <td>9960</td>\n",
       "      <td>3</td>\n",
       "      <td>2</td>\n",
       "      <td>2</td>\n",
       "      <td>yes</td>\n",
       "      <td>no</td>\n",
       "      <td>yes</td>\n",
       "      <td>no</td>\n",
       "      <td>no</td>\n",
       "      <td>2</td>\n",
       "      <td>yes</td>\n",
       "      <td>semi-furnished</td>\n",
       "    </tr>\n",
       "    <tr>\n",
       "      <th>3</th>\n",
       "      <td>12215000</td>\n",
       "      <td>7500</td>\n",
       "      <td>4</td>\n",
       "      <td>2</td>\n",
       "      <td>2</td>\n",
       "      <td>yes</td>\n",
       "      <td>no</td>\n",
       "      <td>yes</td>\n",
       "      <td>no</td>\n",
       "      <td>yes</td>\n",
       "      <td>3</td>\n",
       "      <td>yes</td>\n",
       "      <td>furnished</td>\n",
       "    </tr>\n",
       "    <tr>\n",
       "      <th>4</th>\n",
       "      <td>11410000</td>\n",
       "      <td>7420</td>\n",
       "      <td>4</td>\n",
       "      <td>1</td>\n",
       "      <td>2</td>\n",
       "      <td>yes</td>\n",
       "      <td>yes</td>\n",
       "      <td>yes</td>\n",
       "      <td>no</td>\n",
       "      <td>yes</td>\n",
       "      <td>2</td>\n",
       "      <td>no</td>\n",
       "      <td>furnished</td>\n",
       "    </tr>\n",
       "  </tbody>\n",
       "</table>\n",
       "</div>"
      ],
      "text/plain": [
       "      price  area  bedrooms  bathrooms  stories mainroad guestroom basement  \\\n",
       "0  13300000  7420         4          2        3      yes        no       no   \n",
       "1  12250000  8960         4          4        4      yes        no       no   \n",
       "2  12250000  9960         3          2        2      yes        no      yes   \n",
       "3  12215000  7500         4          2        2      yes        no      yes   \n",
       "4  11410000  7420         4          1        2      yes       yes      yes   \n",
       "\n",
       "  hotwaterheating airconditioning  parking prefarea furnishingstatus  \n",
       "0              no             yes        2      yes        furnished  \n",
       "1              no             yes        3       no        furnished  \n",
       "2              no              no        2      yes   semi-furnished  \n",
       "3              no             yes        3      yes        furnished  \n",
       "4              no             yes        2       no        furnished  "
      ]
     },
     "execution_count": 3,
     "metadata": {},
     "output_type": "execute_result"
    }
   ],
   "source": [
    "data.head()"
   ]
  },
  {
   "cell_type": "code",
   "execution_count": 4,
   "id": "96722008",
   "metadata": {},
   "outputs": [
    {
     "name": "stdout",
     "output_type": "stream",
     "text": [
      "<class 'pandas.core.frame.DataFrame'>\n",
      "RangeIndex: 545 entries, 0 to 544\n",
      "Data columns (total 13 columns):\n",
      " #   Column            Non-Null Count  Dtype \n",
      "---  ------            --------------  ----- \n",
      " 0   price             545 non-null    int64 \n",
      " 1   area              545 non-null    int64 \n",
      " 2   bedrooms          545 non-null    int64 \n",
      " 3   bathrooms         545 non-null    int64 \n",
      " 4   stories           545 non-null    int64 \n",
      " 5   mainroad          545 non-null    object\n",
      " 6   guestroom         545 non-null    object\n",
      " 7   basement          545 non-null    object\n",
      " 8   hotwaterheating   545 non-null    object\n",
      " 9   airconditioning   545 non-null    object\n",
      " 10  parking           545 non-null    int64 \n",
      " 11  prefarea          545 non-null    object\n",
      " 12  furnishingstatus  545 non-null    object\n",
      "dtypes: int64(6), object(7)\n",
      "memory usage: 55.5+ KB\n"
     ]
    }
   ],
   "source": [
    "data.info()"
   ]
  },
  {
   "cell_type": "code",
   "execution_count": 5,
   "id": "bd0f0d34",
   "metadata": {},
   "outputs": [
    {
     "data": {
      "text/html": [
       "<div>\n",
       "<style scoped>\n",
       "    .dataframe tbody tr th:only-of-type {\n",
       "        vertical-align: middle;\n",
       "    }\n",
       "\n",
       "    .dataframe tbody tr th {\n",
       "        vertical-align: top;\n",
       "    }\n",
       "\n",
       "    .dataframe thead th {\n",
       "        text-align: right;\n",
       "    }\n",
       "</style>\n",
       "<table border=\"1\" class=\"dataframe\">\n",
       "  <thead>\n",
       "    <tr style=\"text-align: right;\">\n",
       "      <th></th>\n",
       "      <th>price</th>\n",
       "      <th>area</th>\n",
       "      <th>bedrooms</th>\n",
       "      <th>bathrooms</th>\n",
       "      <th>stories</th>\n",
       "      <th>parking</th>\n",
       "    </tr>\n",
       "  </thead>\n",
       "  <tbody>\n",
       "    <tr>\n",
       "      <th>count</th>\n",
       "      <td>5.450000e+02</td>\n",
       "      <td>545.000000</td>\n",
       "      <td>545.000000</td>\n",
       "      <td>545.000000</td>\n",
       "      <td>545.000000</td>\n",
       "      <td>545.000000</td>\n",
       "    </tr>\n",
       "    <tr>\n",
       "      <th>mean</th>\n",
       "      <td>4.766729e+06</td>\n",
       "      <td>5150.541284</td>\n",
       "      <td>2.965138</td>\n",
       "      <td>1.286239</td>\n",
       "      <td>1.805505</td>\n",
       "      <td>0.693578</td>\n",
       "    </tr>\n",
       "    <tr>\n",
       "      <th>std</th>\n",
       "      <td>1.870440e+06</td>\n",
       "      <td>2170.141023</td>\n",
       "      <td>0.738064</td>\n",
       "      <td>0.502470</td>\n",
       "      <td>0.867492</td>\n",
       "      <td>0.861586</td>\n",
       "    </tr>\n",
       "    <tr>\n",
       "      <th>min</th>\n",
       "      <td>1.750000e+06</td>\n",
       "      <td>1650.000000</td>\n",
       "      <td>1.000000</td>\n",
       "      <td>1.000000</td>\n",
       "      <td>1.000000</td>\n",
       "      <td>0.000000</td>\n",
       "    </tr>\n",
       "    <tr>\n",
       "      <th>25%</th>\n",
       "      <td>3.430000e+06</td>\n",
       "      <td>3600.000000</td>\n",
       "      <td>2.000000</td>\n",
       "      <td>1.000000</td>\n",
       "      <td>1.000000</td>\n",
       "      <td>0.000000</td>\n",
       "    </tr>\n",
       "    <tr>\n",
       "      <th>50%</th>\n",
       "      <td>4.340000e+06</td>\n",
       "      <td>4600.000000</td>\n",
       "      <td>3.000000</td>\n",
       "      <td>1.000000</td>\n",
       "      <td>2.000000</td>\n",
       "      <td>0.000000</td>\n",
       "    </tr>\n",
       "    <tr>\n",
       "      <th>75%</th>\n",
       "      <td>5.740000e+06</td>\n",
       "      <td>6360.000000</td>\n",
       "      <td>3.000000</td>\n",
       "      <td>2.000000</td>\n",
       "      <td>2.000000</td>\n",
       "      <td>1.000000</td>\n",
       "    </tr>\n",
       "    <tr>\n",
       "      <th>max</th>\n",
       "      <td>1.330000e+07</td>\n",
       "      <td>16200.000000</td>\n",
       "      <td>6.000000</td>\n",
       "      <td>4.000000</td>\n",
       "      <td>4.000000</td>\n",
       "      <td>3.000000</td>\n",
       "    </tr>\n",
       "  </tbody>\n",
       "</table>\n",
       "</div>"
      ],
      "text/plain": [
       "              price          area    bedrooms   bathrooms     stories  \\\n",
       "count  5.450000e+02    545.000000  545.000000  545.000000  545.000000   \n",
       "mean   4.766729e+06   5150.541284    2.965138    1.286239    1.805505   \n",
       "std    1.870440e+06   2170.141023    0.738064    0.502470    0.867492   \n",
       "min    1.750000e+06   1650.000000    1.000000    1.000000    1.000000   \n",
       "25%    3.430000e+06   3600.000000    2.000000    1.000000    1.000000   \n",
       "50%    4.340000e+06   4600.000000    3.000000    1.000000    2.000000   \n",
       "75%    5.740000e+06   6360.000000    3.000000    2.000000    2.000000   \n",
       "max    1.330000e+07  16200.000000    6.000000    4.000000    4.000000   \n",
       "\n",
       "          parking  \n",
       "count  545.000000  \n",
       "mean     0.693578  \n",
       "std      0.861586  \n",
       "min      0.000000  \n",
       "25%      0.000000  \n",
       "50%      0.000000  \n",
       "75%      1.000000  \n",
       "max      3.000000  "
      ]
     },
     "execution_count": 5,
     "metadata": {},
     "output_type": "execute_result"
    }
   ],
   "source": [
    "data.describe()"
   ]
  },
  {
   "cell_type": "code",
   "execution_count": 6,
   "id": "17390df3",
   "metadata": {},
   "outputs": [
    {
     "data": {
      "text/plain": [
       "Index(['price', 'area', 'bedrooms', 'bathrooms', 'stories', 'mainroad',\n",
       "       'guestroom', 'basement', 'hotwaterheating', 'airconditioning',\n",
       "       'parking', 'prefarea', 'furnishingstatus'],\n",
       "      dtype='object')"
      ]
     },
     "execution_count": 6,
     "metadata": {},
     "output_type": "execute_result"
    }
   ],
   "source": [
    "data.columns"
   ]
  },
  {
   "cell_type": "code",
   "execution_count": 7,
   "id": "b6b43c8b",
   "metadata": {},
   "outputs": [
    {
     "data": {
      "text/plain": [
       "array(['furnished', 'semi-furnished', 'unfurnished'], dtype=object)"
      ]
     },
     "execution_count": 7,
     "metadata": {},
     "output_type": "execute_result"
    }
   ],
   "source": [
    "data['furnishingstatus'].unique()"
   ]
  },
  {
   "cell_type": "code",
   "execution_count": 8,
   "id": "ba6d098c",
   "metadata": {},
   "outputs": [
    {
     "data": {
      "text/plain": [
       "array(['yes', 'no'], dtype=object)"
      ]
     },
     "execution_count": 8,
     "metadata": {},
     "output_type": "execute_result"
    }
   ],
   "source": [
    "data['mainroad'].unique()"
   ]
  },
  {
   "cell_type": "code",
   "execution_count": 9,
   "id": "07de910e",
   "metadata": {},
   "outputs": [
    {
     "data": {
      "text/plain": [
       "array(['no', 'yes'], dtype=object)"
      ]
     },
     "execution_count": 9,
     "metadata": {},
     "output_type": "execute_result"
    }
   ],
   "source": [
    "data['guestroom'].unique()"
   ]
  },
  {
   "cell_type": "code",
   "execution_count": 10,
   "id": "31ee9cf6",
   "metadata": {},
   "outputs": [
    {
     "data": {
      "text/plain": [
       "array(['no', 'yes'], dtype=object)"
      ]
     },
     "execution_count": 10,
     "metadata": {},
     "output_type": "execute_result"
    }
   ],
   "source": [
    "data['basement'].unique()"
   ]
  },
  {
   "cell_type": "code",
   "execution_count": 11,
   "id": "a45b699d",
   "metadata": {},
   "outputs": [
    {
     "data": {
      "text/plain": [
       "array(['no', 'yes'], dtype=object)"
      ]
     },
     "execution_count": 11,
     "metadata": {},
     "output_type": "execute_result"
    }
   ],
   "source": [
    "data['hotwaterheating'].unique()"
   ]
  },
  {
   "cell_type": "code",
   "execution_count": 12,
   "id": "70a17f19",
   "metadata": {},
   "outputs": [
    {
     "data": {
      "text/plain": [
       "array(['yes', 'no'], dtype=object)"
      ]
     },
     "execution_count": 12,
     "metadata": {},
     "output_type": "execute_result"
    }
   ],
   "source": [
    "data['airconditioning'].unique()"
   ]
  },
  {
   "cell_type": "code",
   "execution_count": 13,
   "id": "6acd157f",
   "metadata": {
    "scrolled": true
   },
   "outputs": [
    {
     "data": {
      "text/plain": [
       "array([2, 3, 0, 1], dtype=int64)"
      ]
     },
     "execution_count": 13,
     "metadata": {},
     "output_type": "execute_result"
    }
   ],
   "source": [
    "data['parking'].unique()"
   ]
  },
  {
   "cell_type": "code",
   "execution_count": 14,
   "id": "1a00556f",
   "metadata": {},
   "outputs": [
    {
     "data": {
      "text/plain": [
       "(array([ 61., 163., 139.,  89.,  46.,  25.,  13.,   4.,   1.,   4.]),\n",
       " array([ 1750000.,  2905000.,  4060000.,  5215000.,  6370000.,  7525000.,\n",
       "         8680000.,  9835000., 10990000., 12145000., 13300000.]),\n",
       " <BarContainer object of 10 artists>)"
      ]
     },
     "execution_count": 14,
     "metadata": {},
     "output_type": "execute_result"
    },
    {
     "data": {
      "image/png": "[encoded data removed]",
      "text/plain": [
       "<Figure size 432x288 with 1 Axes>"
      ]
     },
     "metadata": {
      "needs_background": "light"
     },
     "output_type": "display_data"
    }
   ],
   "source": [
    "plt.hist(data['price'])"
   ]
  },
  {
   "cell_type": "markdown",
   "id": "8ab0c6c6",
   "metadata": {},
   "source": [
    "Here, we have seen that the data for the pricing for the house is not normalised. So for doing any analysis on the pricing of the houses we need to normalize the data first. "
   ]
  },
  {
   "cell_type": "code",
   "execution_count": 15,
   "id": "8551d656",
   "metadata": {},
   "outputs": [],
   "source": [
    "log_price=np.log(data['price'])"
   ]
  },
  {
   "cell_type": "code",
   "execution_count": 16,
   "id": "7ca31ec5",
   "metadata": {},
   "outputs": [
    {
     "data": {
      "text/plain": [
       "(array([ 13.,  26.,  61., 114., 112.,  93.,  68.,  39.,  14.,   5.]),\n",
       " array([14.37512635, 14.57794117, 14.780756  , 14.98357082, 15.18638564,\n",
       "        15.38920047, 15.59201529, 15.79483012, 15.99764494, 16.20045977,\n",
       "        16.40327459]),\n",
       " <BarContainer object of 10 artists>)"
      ]
     },
     "execution_count": 16,
     "metadata": {},
     "output_type": "execute_result"
    },
    {
     "data": {
      "image/png": "[encoded data removed]",
      "text/plain": [
       "<Figure size 432x288 with 1 Axes>"
      ]
     },
     "metadata": {
      "needs_background": "light"
     },
     "output_type": "display_data"
    }
   ],
   "source": [
    "plt.hist(log_price)"
   ]
  },
  {
   "cell_type": "code",
   "execution_count": 17,
   "id": "9ec8b375",
   "metadata": {},
   "outputs": [
    {
     "data": {
      "text/plain": [
       "<AxesSubplot:xlabel='price', ylabel='Density'>"
      ]
     },
     "execution_count": 17,
     "metadata": {},
     "output_type": "execute_result"
    },
    {
     "data": {
      "image/png": "[encoded data removed]",
      "text/plain": [
       "<Figure size 432x288 with 1 Axes>"
      ]
     },
     "metadata": {
      "needs_background": "light"
     },
     "output_type": "display_data"
    }
   ],
   "source": [
    "sns.kdeplot(x=log_price)"
   ]
  },
  {
   "cell_type": "code",
   "execution_count": 18,
   "id": "8da638a2",
   "metadata": {},
   "outputs": [
    {
     "name": "stdout",
     "output_type": "stream",
     "text": [
      "Test statistic: 0.9961677193641663\n",
      "P-value: 0.21173334121704102\n",
      "The data is normally distributed\n"
     ]
    }
   ],
   "source": [
    "stat, p = shapiro(log_price)\n",
    "print('Test statistic:', stat)\n",
    "print('P-value:', p)\n",
    "if p > 0.05:\n",
    " print('The data is normally distributed')\n",
    "else:\n",
    " print('The data is not normally distributed')\n"
   ]
  },
  {
   "cell_type": "markdown",
   "id": "3ce86c3e",
   "metadata": {},
   "source": [
    "Here after taking the log of the pricing of the house we can see that the data has been normalised to almost a great extent. This can be seen from the various grtaphs like kdeplot and the shapiro test which are used to see the normalization of the data"
   ]
  },
  {
   "cell_type": "code",
   "execution_count": 19,
   "id": "97819f75",
   "metadata": {},
   "outputs": [],
   "source": [
    "y=log_price\n",
    "x=data['area']"
   ]
  },
  {
   "cell_type": "code",
   "execution_count": 20,
   "id": "9f9636ea",
   "metadata": {},
   "outputs": [
    {
     "data": {
      "text/html": [
       "<table class=\"simpletable\">\n",
       "<caption>OLS Regression Results</caption>\n",
       "<tr>\n",
       "  <th>Dep. Variable:</th>          <td>price</td>      <th>  R-squared:         </th> <td>   0.295</td>\n",
       "</tr>\n",
       "<tr>\n",
       "  <th>Model:</th>                   <td>OLS</td>       <th>  Adj. R-squared:    </th> <td>   0.294</td>\n",
       "</tr>\n",
       "<tr>\n",
       "  <th>Method:</th>             <td>Least Squares</td>  <th>  F-statistic:       </th> <td>   227.3</td>\n",
       "</tr>\n",
       "<tr>\n",
       "  <th>Date:</th>             <td>Sat, 18 Mar 2023</td> <th>  Prob (F-statistic):</th> <td>3.66e-43</td>\n",
       "</tr>\n",
       "<tr>\n",
       "  <th>Time:</th>                 <td>01:00:40</td>     <th>  Log-Likelihood:    </th> <td> -138.84</td>\n",
       "</tr>\n",
       "<tr>\n",
       "  <th>No. Observations:</th>      <td>   545</td>      <th>  AIC:               </th> <td>   281.7</td>\n",
       "</tr>\n",
       "<tr>\n",
       "  <th>Df Residuals:</th>          <td>   543</td>      <th>  BIC:               </th> <td>   290.3</td>\n",
       "</tr>\n",
       "<tr>\n",
       "  <th>Df Model:</th>              <td>     1</td>      <th>                     </th>     <td> </td>   \n",
       "</tr>\n",
       "<tr>\n",
       "  <th>Covariance Type:</th>      <td>nonrobust</td>    <th>                     </th>     <td> </td>   \n",
       "</tr>\n",
       "</table>\n",
       "<table class=\"simpletable\">\n",
       "<tr>\n",
       "    <td></td>       <th>coef</th>     <th>std err</th>      <th>t</th>      <th>P>|t|</th>  <th>[0.025</th>    <th>0.975]</th>  \n",
       "</tr>\n",
       "<tr>\n",
       "  <th>const</th> <td>   14.8272</td> <td>    0.035</td> <td>  429.406</td> <td> 0.000</td> <td>   14.759</td> <td>   14.895</td>\n",
       "</tr>\n",
       "<tr>\n",
       "  <th>area</th>  <td> 9.316e-05</td> <td> 6.18e-06</td> <td>   15.077</td> <td> 0.000</td> <td>  8.1e-05</td> <td>    0.000</td>\n",
       "</tr>\n",
       "</table>\n",
       "<table class=\"simpletable\">\n",
       "<tr>\n",
       "  <th>Omnibus:</th>       <td> 0.105</td> <th>  Durbin-Watson:     </th> <td>   0.585</td>\n",
       "</tr>\n",
       "<tr>\n",
       "  <th>Prob(Omnibus):</th> <td> 0.949</td> <th>  Jarque-Bera (JB):  </th> <td>   0.126</td>\n",
       "</tr>\n",
       "<tr>\n",
       "  <th>Skew:</th>          <td>-0.034</td> <th>  Prob(JB):          </th> <td>   0.939</td>\n",
       "</tr>\n",
       "<tr>\n",
       "  <th>Kurtosis:</th>      <td> 2.967</td> <th>  Cond. No.          </th> <td>1.44e+04</td>\n",
       "</tr>\n",
       "</table><br/><br/>Notes:<br/>[1] Standard Errors assume that the covariance matrix of the errors is correctly specified.<br/>[2] The condition number is large, 1.44e+04. This might indicate that there are<br/>strong multicollinearity or other numerical problems."
      ],
      "text/plain": [
       "<class 'statsmodels.iolib.summary.Summary'>\n",
       "\"\"\"\n",
       "                            OLS Regression Results                            \n",
       "==============================================================================\n",
       "Dep. Variable:                  price   R-squared:                       0.295\n",
       "Model:                            OLS   Adj. R-squared:                  0.294\n",
       "Method:                 Least Squares   F-statistic:                     227.3\n",
       "Date:                Sat, 18 Mar 2023   Prob (F-statistic):           3.66e-43\n",
       "Time:                        01:00:40   Log-Likelihood:                -138.84\n",
       "No. Observations:                 545   AIC:                             281.7\n",
       "Df Residuals:                     543   BIC:                             290.3\n",
       "Df Model:                           1                                         \n",
       "Covariance Type:            nonrobust                                         \n",
       "==============================================================================\n",
       "                 coef    std err          t      P>|t|      [0.025      0.975]\n",
       "------------------------------------------------------------------------------\n",
       "const         14.8272      0.035    429.406      0.000      14.759      14.895\n",
       "area        9.316e-05   6.18e-06     15.077      0.000     8.1e-05       0.000\n",
       "==============================================================================\n",
       "Omnibus:                        0.105   Durbin-Watson:                   0.585\n",
       "Prob(Omnibus):                  0.949   Jarque-Bera (JB):                0.126\n",
       "Skew:                          -0.034   Prob(JB):                        0.939\n",
       "Kurtosis:                       2.967   Cond. No.                     1.44e+04\n",
       "==============================================================================\n",
       "\n",
       "Notes:\n",
       "[1] Standard Errors assume that the covariance matrix of the errors is correctly specified.\n",
       "[2] The condition number is large, 1.44e+04. This might indicate that there are\n",
       "strong multicollinearity or other numerical problems.\n",
       "\"\"\""
      ]
     },
     "execution_count": 20,
     "metadata": {},
     "output_type": "execute_result"
    }
   ],
   "source": [
    "x = sm.add_constant(x)\n",
    "model1 = sm.OLS(y, x).fit()\n",
    "model1.summary()"
   ]
  },
  {
   "cell_type": "code",
   "execution_count": 55,
   "id": "3c185b2c",
   "metadata": {},
   "outputs": [
    {
     "name": "stdout",
     "output_type": "stream",
     "text": [
      "Critical value of F-statistic:  3.8586410520336356\n"
     ]
    }
   ],
   "source": [
    "from scipy.stats import f\n",
    "\n",
    "# Set the degrees of freedom for the numerator and denominator\n",
    "dfn = 1 # degrees of freedom for numerator\n",
    "dfd = 543 # degrees of freedom for denominator\n",
    "alpha = 0.05 # significance level\n",
    "\n",
    "# Calculate the critical value for the F-statistic\n",
    "f_crit = f.ppf(q=1-alpha, dfn=dfn, dfd=dfd)\n",
    "\n",
    "print(\"Critical value of F-statistic: \", f_crit)"
   ]
  },
  {
   "cell_type": "code",
   "execution_count": 59,
   "id": "d379c3d9",
   "metadata": {},
   "outputs": [
    {
     "data": {
      "text/plain": [
       "<AxesSubplot:xlabel='price'>"
      ]
     },
     "execution_count": 59,
     "metadata": {},
     "output_type": "execute_result"
    },
    {
     "data": {
      "image/png": "[encoded data removed]",
      "text/plain": [
       "<Figure size 432x288 with 1 Axes>"
      ]
     },
     "metadata": {
      "needs_background": "light"
     },
     "output_type": "display_data"
    }
   ],
   "source": [
    "sns.regplot(x=y, y=model1.fittedvalues, scatter_kws={'alpha':0.5}, line_kws ={'color':'red'})"
   ]
  },
  {
   "cell_type": "markdown",
   "id": "49f6d13f",
   "metadata": {},
   "source": [
    "Critical value of F-statistic:  2.388440738539174"
   ]
  },
  {
   "cell_type": "markdown",
   "id": "a1239b53",
   "metadata": {},
   "source": [
    "here we have run a linear regression between the pricing and the area for the housing data. And from the ols model statistics we can see clearly that eventhough the p values are significant but the reason we can't accept the model because the r square is much more nearer to 0 instead of 1, which means that the model we made is not quite suitable or a better fit for the data.\n",
    "adjusted is always less than R square. \n",
    "r square get influnced by number of variables in the regression model. so we see the adjusted r square.\n",
    "the range of F-statistics depends on the sample size, the number of independent variables, and the significance level of the test. The F-statistic value must be compared with the critical value to determine whether the model is statistically significant or not.If the calculated F-statistic is greater than the critical value, we can reject the null hypothesis that all regression coefficients are zero and conclude that the model is statistically significant at the specified level of significance."
   ]
  },
  {
   "cell_type": "markdown",
   "id": "732c406a",
   "metadata": {},
   "source": [
    "### here the assumption for the hypothesis is thta : \n",
    "##h0:there is no significant relation between area and price of the house \n",
    "h1: there is relationship between the two variables \n",
    "here we got p value significant , less than .05, so we are rejecting the null hypothesis\n"
   ]
  },
  {
   "cell_type": "code",
   "execution_count": 23,
   "id": "e0767dbc",
   "metadata": {},
   "outputs": [],
   "source": [
    "y=log_price\n",
    "x=data[['area','stories']]"
   ]
  },
  {
   "cell_type": "code",
   "execution_count": 24,
   "id": "9df2746f",
   "metadata": {},
   "outputs": [
    {
     "data": {
      "text/html": [
       "<table class=\"simpletable\">\n",
       "<caption>OLS Regression Results</caption>\n",
       "<tr>\n",
       "  <th>Dep. Variable:</th>          <td>price</td>      <th>  R-squared:         </th> <td>   0.433</td>\n",
       "</tr>\n",
       "<tr>\n",
       "  <th>Model:</th>                   <td>OLS</td>       <th>  Adj. R-squared:    </th> <td>   0.431</td>\n",
       "</tr>\n",
       "<tr>\n",
       "  <th>Method:</th>             <td>Least Squares</td>  <th>  F-statistic:       </th> <td>   206.7</td>\n",
       "</tr>\n",
       "<tr>\n",
       "  <th>Date:</th>             <td>Sat, 18 Mar 2023</td> <th>  Prob (F-statistic):</th> <td>1.91e-67</td>\n",
       "</tr>\n",
       "<tr>\n",
       "  <th>Time:</th>                 <td>01:00:41</td>     <th>  Log-Likelihood:    </th> <td> -79.655</td>\n",
       "</tr>\n",
       "<tr>\n",
       "  <th>No. Observations:</th>      <td>   545</td>      <th>  AIC:               </th> <td>   165.3</td>\n",
       "</tr>\n",
       "<tr>\n",
       "  <th>Df Residuals:</th>          <td>   542</td>      <th>  BIC:               </th> <td>   178.2</td>\n",
       "</tr>\n",
       "<tr>\n",
       "  <th>Df Model:</th>              <td>     2</td>      <th>                     </th>     <td> </td>   \n",
       "</tr>\n",
       "<tr>\n",
       "  <th>Covariance Type:</th>      <td>nonrobust</td>    <th>                     </th>     <td> </td>   \n",
       "</tr>\n",
       "</table>\n",
       "<table class=\"simpletable\">\n",
       "<tr>\n",
       "     <td></td>        <th>coef</th>     <th>std err</th>      <th>t</th>      <th>P>|t|</th>  <th>[0.025</th>    <th>0.975]</th>  \n",
       "</tr>\n",
       "<tr>\n",
       "  <th>const</th>   <td>   14.5664</td> <td>    0.038</td> <td>  378.844</td> <td> 0.000</td> <td>   14.491</td> <td>   14.642</td>\n",
       "</tr>\n",
       "<tr>\n",
       "  <th>area</th>    <td>  8.78e-05</td> <td> 5.57e-06</td> <td>   15.769</td> <td> 0.000</td> <td> 7.69e-05</td> <td> 9.87e-05</td>\n",
       "</tr>\n",
       "<tr>\n",
       "  <th>stories</th> <td>    0.1597</td> <td>    0.014</td> <td>   11.466</td> <td> 0.000</td> <td>    0.132</td> <td>    0.187</td>\n",
       "</tr>\n",
       "</table>\n",
       "<table class=\"simpletable\">\n",
       "<tr>\n",
       "  <th>Omnibus:</th>       <td> 2.085</td> <th>  Durbin-Watson:     </th> <td>   0.848</td>\n",
       "</tr>\n",
       "<tr>\n",
       "  <th>Prob(Omnibus):</th> <td> 0.353</td> <th>  Jarque-Bera (JB):  </th> <td>   2.100</td>\n",
       "</tr>\n",
       "<tr>\n",
       "  <th>Skew:</th>          <td>-0.000</td> <th>  Prob(JB):          </th> <td>   0.350</td>\n",
       "</tr>\n",
       "<tr>\n",
       "  <th>Kurtosis:</th>      <td> 3.304</td> <th>  Cond. No.          </th> <td>1.83e+04</td>\n",
       "</tr>\n",
       "</table><br/><br/>Notes:<br/>[1] Standard Errors assume that the covariance matrix of the errors is correctly specified.<br/>[2] The condition number is large, 1.83e+04. This might indicate that there are<br/>strong multicollinearity or other numerical problems."
      ],
      "text/plain": [
       "<class 'statsmodels.iolib.summary.Summary'>\n",
       "\"\"\"\n",
       "                            OLS Regression Results                            \n",
       "==============================================================================\n",
       "Dep. Variable:                  price   R-squared:                       0.433\n",
       "Model:                            OLS   Adj. R-squared:                  0.431\n",
       "Method:                 Least Squares   F-statistic:                     206.7\n",
       "Date:                Sat, 18 Mar 2023   Prob (F-statistic):           1.91e-67\n",
       "Time:                        01:00:41   Log-Likelihood:                -79.655\n",
       "No. Observations:                 545   AIC:                             165.3\n",
       "Df Residuals:                     542   BIC:                             178.2\n",
       "Df Model:                           2                                         \n",
       "Covariance Type:            nonrobust                                         \n",
       "==============================================================================\n",
       "                 coef    std err          t      P>|t|      [0.025      0.975]\n",
       "------------------------------------------------------------------------------\n",
       "const         14.5664      0.038    378.844      0.000      14.491      14.642\n",
       "area         8.78e-05   5.57e-06     15.769      0.000    7.69e-05    9.87e-05\n",
       "stories        0.1597      0.014     11.466      0.000       0.132       0.187\n",
       "==============================================================================\n",
       "Omnibus:                        2.085   Durbin-Watson:                   0.848\n",
       "Prob(Omnibus):                  0.353   Jarque-Bera (JB):                2.100\n",
       "Skew:                          -0.000   Prob(JB):                        0.350\n",
       "Kurtosis:                       3.304   Cond. No.                     1.83e+04\n",
       "==============================================================================\n",
       "\n",
       "Notes:\n",
       "[1] Standard Errors assume that the covariance matrix of the errors is correctly specified.\n",
       "[2] The condition number is large, 1.83e+04. This might indicate that there are\n",
       "strong multicollinearity or other numerical problems.\n",
       "\"\"\""
      ]
     },
     "execution_count": 24,
     "metadata": {},
     "output_type": "execute_result"
    }
   ],
   "source": [
    "x = sm.add_constant(x)\n",
    "model2 = sm.OLS(y, x).fit()\n",
    "model2.summary()"
   ]
  },
  {
   "cell_type": "code",
   "execution_count": 60,
   "id": "a2c57665",
   "metadata": {},
   "outputs": [
    {
     "name": "stdout",
     "output_type": "stream",
     "text": [
      "Critical value of F-statistic:  3.0123514105410663\n"
     ]
    }
   ],
   "source": [
    "from scipy.stats import f\n",
    "\n",
    "# Set the degrees of freedom for the numerator and denominator\n",
    "dfn = 2 # degrees of freedom for numerator\n",
    "dfd = 542 # degrees of freedom for denominator\n",
    "alpha = 0.05 # significance level\n",
    "\n",
    "# Calculate the critical value for the F-statistic\n",
    "f_crit = f.ppf(q=1-alpha, dfn=dfn, dfd=dfd)\n",
    "\n",
    "print(\"Critical value of F-statistic: \", f_crit)"
   ]
  },
  {
   "cell_type": "markdown",
   "id": "f3d577e4",
   "metadata": {},
   "source": [
    "assumptions\n",
    "Linearity: The relationship between the dependent variable and the independent variables is linear. \n",
    "This means that as the independent variable(s) change, the change in the dependent variable is proportional and constant.\n",
    "\n",
    "Independence: The observations in the data set are independent of each other. This means that the value of the dependent \n",
    "variable for one observation does not depend on the value of the dependent variable for another observation.\n",
    "\n",
    "Homoscedasticity: The variance of the errors is constant across all levels of the independent variables. \n",
    "This means that the spread of the residuals (the difference between the actual and predicted values) should be similar \n",
    "for all values of the independent variables.\n",
    "\n",
    "Normality: The errors (residuals) are normally distributed. This means that the distribution of the residuals should \n",
    "be roughly symmetric around zero and follow a normal distribution.\n",
    "\n",
    "No multicollinearity: There is no high correlation among the independent variables. This means that the independent \n",
    "variables should be independent of each other.\n",
    "\n",
    "No influential outliers: There are no influential outliers that could skew the results of the regression analysis.\n"
   ]
  },
  {
   "cell_type": "code",
   "execution_count": 25,
   "id": "79f0c7ae",
   "metadata": {},
   "outputs": [],
   "source": [
    "y=log_price\n",
    "x=data[['area','stories','bedrooms']]"
   ]
  },
  {
   "cell_type": "code",
   "execution_count": 26,
   "id": "9f1e5b87",
   "metadata": {},
   "outputs": [
    {
     "data": {
      "text/html": [
       "<table class=\"simpletable\">\n",
       "<caption>OLS Regression Results</caption>\n",
       "<tr>\n",
       "  <th>Dep. Variable:</th>          <td>price</td>      <th>  R-squared:         </th> <td>   0.457</td>\n",
       "</tr>\n",
       "<tr>\n",
       "  <th>Model:</th>                   <td>OLS</td>       <th>  Adj. R-squared:    </th> <td>   0.454</td>\n",
       "</tr>\n",
       "<tr>\n",
       "  <th>Method:</th>             <td>Least Squares</td>  <th>  F-statistic:       </th> <td>   151.6</td>\n",
       "</tr>\n",
       "<tr>\n",
       "  <th>Date:</th>             <td>Sat, 18 Mar 2023</td> <th>  Prob (F-statistic):</th> <td>2.69e-71</td>\n",
       "</tr>\n",
       "<tr>\n",
       "  <th>Time:</th>                 <td>01:00:41</td>     <th>  Log-Likelihood:    </th> <td> -67.888</td>\n",
       "</tr>\n",
       "<tr>\n",
       "  <th>No. Observations:</th>      <td>   545</td>      <th>  AIC:               </th> <td>   143.8</td>\n",
       "</tr>\n",
       "<tr>\n",
       "  <th>Df Residuals:</th>          <td>   541</td>      <th>  BIC:               </th> <td>   161.0</td>\n",
       "</tr>\n",
       "<tr>\n",
       "  <th>Df Model:</th>              <td>     3</td>      <th>                     </th>     <td> </td>   \n",
       "</tr>\n",
       "<tr>\n",
       "  <th>Covariance Type:</th>      <td>nonrobust</td>    <th>                     </th>     <td> </td>   \n",
       "</tr>\n",
       "</table>\n",
       "<table class=\"simpletable\">\n",
       "<tr>\n",
       "      <td></td>        <th>coef</th>     <th>std err</th>      <th>t</th>      <th>P>|t|</th>  <th>[0.025</th>    <th>0.975]</th>  \n",
       "</tr>\n",
       "<tr>\n",
       "  <th>const</th>    <td>   14.3813</td> <td>    0.053</td> <td>  269.230</td> <td> 0.000</td> <td>   14.276</td> <td>   14.486</td>\n",
       "</tr>\n",
       "<tr>\n",
       "  <th>area</th>     <td> 8.433e-05</td> <td>  5.5e-06</td> <td>   15.332</td> <td> 0.000</td> <td> 7.35e-05</td> <td> 9.51e-05</td>\n",
       "</tr>\n",
       "<tr>\n",
       "  <th>stories</th>  <td>    0.1305</td> <td>    0.015</td> <td>    8.755</td> <td> 0.000</td> <td>    0.101</td> <td>    0.160</td>\n",
       "</tr>\n",
       "<tr>\n",
       "  <th>bedrooms</th> <td>    0.0863</td> <td>    0.018</td> <td>    4.886</td> <td> 0.000</td> <td>    0.052</td> <td>    0.121</td>\n",
       "</tr>\n",
       "</table>\n",
       "<table class=\"simpletable\">\n",
       "<tr>\n",
       "  <th>Omnibus:</th>       <td> 4.298</td> <th>  Durbin-Watson:     </th> <td>   0.897</td>\n",
       "</tr>\n",
       "<tr>\n",
       "  <th>Prob(Omnibus):</th> <td> 0.117</td> <th>  Jarque-Bera (JB):  </th> <td>   4.376</td>\n",
       "</tr>\n",
       "<tr>\n",
       "  <th>Skew:</th>          <td>-0.144</td> <th>  Prob(JB):          </th> <td>   0.112</td>\n",
       "</tr>\n",
       "<tr>\n",
       "  <th>Kurtosis:</th>      <td> 3.332</td> <th>  Cond. No.          </th> <td>2.61e+04</td>\n",
       "</tr>\n",
       "</table><br/><br/>Notes:<br/>[1] Standard Errors assume that the covariance matrix of the errors is correctly specified.<br/>[2] The condition number is large, 2.61e+04. This might indicate that there are<br/>strong multicollinearity or other numerical problems."
      ],
      "text/plain": [
       "<class 'statsmodels.iolib.summary.Summary'>\n",
       "\"\"\"\n",
       "                            OLS Regression Results                            \n",
       "==============================================================================\n",
       "Dep. Variable:                  price   R-squared:                       0.457\n",
       "Model:                            OLS   Adj. R-squared:                  0.454\n",
       "Method:                 Least Squares   F-statistic:                     151.6\n",
       "Date:                Sat, 18 Mar 2023   Prob (F-statistic):           2.69e-71\n",
       "Time:                        01:00:41   Log-Likelihood:                -67.888\n",
       "No. Observations:                 545   AIC:                             143.8\n",
       "Df Residuals:                     541   BIC:                             161.0\n",
       "Df Model:                           3                                         \n",
       "Covariance Type:            nonrobust                                         \n",
       "==============================================================================\n",
       "                 coef    std err          t      P>|t|      [0.025      0.975]\n",
       "------------------------------------------------------------------------------\n",
       "const         14.3813      0.053    269.230      0.000      14.276      14.486\n",
       "area        8.433e-05    5.5e-06     15.332      0.000    7.35e-05    9.51e-05\n",
       "stories        0.1305      0.015      8.755      0.000       0.101       0.160\n",
       "bedrooms       0.0863      0.018      4.886      0.000       0.052       0.121\n",
       "==============================================================================\n",
       "Omnibus:                        4.298   Durbin-Watson:                   0.897\n",
       "Prob(Omnibus):                  0.117   Jarque-Bera (JB):                4.376\n",
       "Skew:                          -0.144   Prob(JB):                        0.112\n",
       "Kurtosis:                       3.332   Cond. No.                     2.61e+04\n",
       "==============================================================================\n",
       "\n",
       "Notes:\n",
       "[1] Standard Errors assume that the covariance matrix of the errors is correctly specified.\n",
       "[2] The condition number is large, 2.61e+04. This might indicate that there are\n",
       "strong multicollinearity or other numerical problems.\n",
       "\"\"\""
      ]
     },
     "execution_count": 26,
     "metadata": {},
     "output_type": "execute_result"
    }
   ],
   "source": [
    "x = sm.add_constant(x)\n",
    "model3 = sm.OLS(y, x).fit()\n",
    "model3.summary()"
   ]
  },
  {
   "cell_type": "code",
   "execution_count": 61,
   "id": "c7270193",
   "metadata": {},
   "outputs": [
    {
     "name": "stdout",
     "output_type": "stream",
     "text": [
      "Critical value of F-statistic:  2.621378690498798\n"
     ]
    }
   ],
   "source": [
    "from scipy.stats import f\n",
    "\n",
    "# Set the degrees of freedom for the numerator and denominator\n",
    "dfn = 3 # degrees of freedom for numerator\n",
    "dfd = 541 # degrees of freedom for denominator\n",
    "alpha = 0.05 # significance level\n",
    "\n",
    "# Calculate the critical value for the F-statistic\n",
    "f_crit = f.ppf(q=1-alpha, dfn=dfn, dfd=dfd)\n",
    "\n",
    "print(\"Critical value of F-statistic: \", f_crit)"
   ]
  },
  {
   "cell_type": "code",
   "execution_count": 28,
   "id": "4e890f1a",
   "metadata": {},
   "outputs": [],
   "source": [
    "y=log_price\n",
    "x=data[['area','stories','bedrooms','bathrooms']]"
   ]
  },
  {
   "cell_type": "code",
   "execution_count": 29,
   "id": "0fbea2fb",
   "metadata": {},
   "outputs": [
    {
     "data": {
      "text/html": [
       "<table class=\"simpletable\">\n",
       "<caption>OLS Regression Results</caption>\n",
       "<tr>\n",
       "  <th>Dep. Variable:</th>          <td>price</td>      <th>  R-squared:         </th> <td>   0.521</td>\n",
       "</tr>\n",
       "<tr>\n",
       "  <th>Model:</th>                   <td>OLS</td>       <th>  Adj. R-squared:    </th> <td>   0.517</td>\n",
       "</tr>\n",
       "<tr>\n",
       "  <th>Method:</th>             <td>Least Squares</td>  <th>  F-statistic:       </th> <td>   146.7</td>\n",
       "</tr>\n",
       "<tr>\n",
       "  <th>Date:</th>             <td>Sat, 18 Mar 2023</td> <th>  Prob (F-statistic):</th> <td>7.96e-85</td>\n",
       "</tr>\n",
       "<tr>\n",
       "  <th>Time:</th>                 <td>01:00:41</td>     <th>  Log-Likelihood:    </th> <td> -33.696</td>\n",
       "</tr>\n",
       "<tr>\n",
       "  <th>No. Observations:</th>      <td>   545</td>      <th>  AIC:               </th> <td>   77.39</td>\n",
       "</tr>\n",
       "<tr>\n",
       "  <th>Df Residuals:</th>          <td>   540</td>      <th>  BIC:               </th> <td>   98.90</td>\n",
       "</tr>\n",
       "<tr>\n",
       "  <th>Df Model:</th>              <td>     4</td>      <th>                     </th>     <td> </td>   \n",
       "</tr>\n",
       "<tr>\n",
       "  <th>Covariance Type:</th>      <td>nonrobust</td>    <th>                     </th>     <td> </td>   \n",
       "</tr>\n",
       "</table>\n",
       "<table class=\"simpletable\">\n",
       "<tr>\n",
       "      <td></td>         <th>coef</th>     <th>std err</th>      <th>t</th>      <th>P>|t|</th>  <th>[0.025</th>    <th>0.975]</th>  \n",
       "</tr>\n",
       "<tr>\n",
       "  <th>const</th>     <td>   14.3049</td> <td>    0.051</td> <td>  280.412</td> <td> 0.000</td> <td>   14.205</td> <td>   14.405</td>\n",
       "</tr>\n",
       "<tr>\n",
       "  <th>area</th>      <td> 7.777e-05</td> <td> 5.23e-06</td> <td>   14.876</td> <td> 0.000</td> <td> 6.75e-05</td> <td>  8.8e-05</td>\n",
       "</tr>\n",
       "<tr>\n",
       "  <th>stories</th>   <td>    0.1057</td> <td>    0.014</td> <td>    7.389</td> <td> 0.000</td> <td>    0.078</td> <td>    0.134</td>\n",
       "</tr>\n",
       "<tr>\n",
       "  <th>bedrooms</th>  <td>    0.0479</td> <td>    0.017</td> <td>    2.786</td> <td> 0.006</td> <td>    0.014</td> <td>    0.082</td>\n",
       "</tr>\n",
       "<tr>\n",
       "  <th>bathrooms</th> <td>    0.2088</td> <td>    0.025</td> <td>    8.497</td> <td> 0.000</td> <td>    0.161</td> <td>    0.257</td>\n",
       "</tr>\n",
       "</table>\n",
       "<table class=\"simpletable\">\n",
       "<tr>\n",
       "  <th>Omnibus:</th>       <td> 4.189</td> <th>  Durbin-Watson:     </th> <td>   0.976</td>\n",
       "</tr>\n",
       "<tr>\n",
       "  <th>Prob(Omnibus):</th> <td> 0.123</td> <th>  Jarque-Bera (JB):  </th> <td>   4.067</td>\n",
       "</tr>\n",
       "<tr>\n",
       "  <th>Skew:</th>          <td>-0.166</td> <th>  Prob(JB):          </th> <td>   0.131</td>\n",
       "</tr>\n",
       "<tr>\n",
       "  <th>Kurtosis:</th>      <td> 3.263</td> <th>  Cond. No.          </th> <td>2.64e+04</td>\n",
       "</tr>\n",
       "</table><br/><br/>Notes:<br/>[1] Standard Errors assume that the covariance matrix of the errors is correctly specified.<br/>[2] The condition number is large, 2.64e+04. This might indicate that there are<br/>strong multicollinearity or other numerical problems."
      ],
      "text/plain": [
       "<class 'statsmodels.iolib.summary.Summary'>\n",
       "\"\"\"\n",
       "                            OLS Regression Results                            \n",
       "==============================================================================\n",
       "Dep. Variable:                  price   R-squared:                       0.521\n",
       "Model:                            OLS   Adj. R-squared:                  0.517\n",
       "Method:                 Least Squares   F-statistic:                     146.7\n",
       "Date:                Sat, 18 Mar 2023   Prob (F-statistic):           7.96e-85\n",
       "Time:                        01:00:41   Log-Likelihood:                -33.696\n",
       "No. Observations:                 545   AIC:                             77.39\n",
       "Df Residuals:                     540   BIC:                             98.90\n",
       "Df Model:                           4                                         \n",
       "Covariance Type:            nonrobust                                         \n",
       "==============================================================================\n",
       "                 coef    std err          t      P>|t|      [0.025      0.975]\n",
       "------------------------------------------------------------------------------\n",
       "const         14.3049      0.051    280.412      0.000      14.205      14.405\n",
       "area        7.777e-05   5.23e-06     14.876      0.000    6.75e-05     8.8e-05\n",
       "stories        0.1057      0.014      7.389      0.000       0.078       0.134\n",
       "bedrooms       0.0479      0.017      2.786      0.006       0.014       0.082\n",
       "bathrooms      0.2088      0.025      8.497      0.000       0.161       0.257\n",
       "==============================================================================\n",
       "Omnibus:                        4.189   Durbin-Watson:                   0.976\n",
       "Prob(Omnibus):                  0.123   Jarque-Bera (JB):                4.067\n",
       "Skew:                          -0.166   Prob(JB):                        0.131\n",
       "Kurtosis:                       3.263   Cond. No.                     2.64e+04\n",
       "==============================================================================\n",
       "\n",
       "Notes:\n",
       "[1] Standard Errors assume that the covariance matrix of the errors is correctly specified.\n",
       "[2] The condition number is large, 2.64e+04. This might indicate that there are\n",
       "strong multicollinearity or other numerical problems.\n",
       "\"\"\""
      ]
     },
     "execution_count": 29,
     "metadata": {},
     "output_type": "execute_result"
    }
   ],
   "source": [
    "x = sm.add_constant(x)\n",
    "model4 = sm.OLS(y, x).fit()\n",
    "model4.summary()"
   ]
  },
  {
   "cell_type": "code",
   "execution_count": 62,
   "id": "4117aaea",
   "metadata": {},
   "outputs": [
    {
     "name": "stdout",
     "output_type": "stream",
     "text": [
      "Critical value of F-statistic:  2.388440738539174\n"
     ]
    }
   ],
   "source": [
    "from scipy.stats import f\n",
    "\n",
    "# Set the degrees of freedom for the numerator and denominator\n",
    "dfn = 4 # degrees of freedom for numerator\n",
    "dfd = 540 # degrees of freedom for denominator\n",
    "alpha = 0.05 # significance level\n",
    "\n",
    "# Calculate the critical value for the F-statistic\n",
    "f_crit = f.ppf(q=1-alpha, dfn=dfn, dfd=dfd)\n",
    "\n",
    "print(\"Critical value of F-statistic: \", f_crit)"
   ]
  },
  {
   "cell_type": "code",
   "execution_count": 52,
   "id": "b43c8a84",
   "metadata": {},
   "outputs": [
    {
     "data": {
      "text/plain": [
       "<AxesSubplot:xlabel='price'>"
      ]
     },
     "execution_count": 52,
     "metadata": {},
     "output_type": "execute_result"
    },
    {
     "data": {
      "image/png": "[encoded data removed]",
      "text/plain": [
       "<Figure size 432x288 with 1 Axes>"
      ]
     },
     "metadata": {
      "needs_background": "light"
     },
     "output_type": "display_data"
    }
   ],
   "source": [
    "sns.regplot(x=y, y=model4.fittedvalues, scatter_kws={'alpha':0.5})"
   ]
  },
  {
   "cell_type": "code",
   "execution_count": 30,
   "id": "f5800719",
   "metadata": {},
   "outputs": [],
   "source": [
    "from statsmodels.stats.outliers_influence import variance_inflation_factor"
   ]
  },
  {
   "cell_type": "code",
   "execution_count": 31,
   "id": "f63e19d3",
   "metadata": {},
   "outputs": [],
   "source": [
    "def get_vif_factors(X):\n",
    "    X_matrix = X.values\n",
    "    vif = [variance_inflation_factor(X_matrix,i) for i in range(X_matrix.shape[1])]\n",
    "    vif_factors = pd.DataFrame()\n",
    "    vif_factors['column'] = X.columns\n",
    "    vif_factors['VIF'] = vif\n",
    "   \n",
    "    return vif_factors"
   ]
  },
  {
   "cell_type": "code",
   "execution_count": 32,
   "id": "a96a19cd",
   "metadata": {},
   "outputs": [
    {
     "data": {
      "text/html": [
       "<div>\n",
       "<style scoped>\n",
       "    .dataframe tbody tr th:only-of-type {\n",
       "        vertical-align: middle;\n",
       "    }\n",
       "\n",
       "    .dataframe tbody tr th {\n",
       "        vertical-align: top;\n",
       "    }\n",
       "\n",
       "    .dataframe thead th {\n",
       "        text-align: right;\n",
       "    }\n",
       "</style>\n",
       "<table border=\"1\" class=\"dataframe\">\n",
       "  <thead>\n",
       "    <tr style=\"text-align: right;\">\n",
       "      <th></th>\n",
       "      <th>column</th>\n",
       "      <th>VIF</th>\n",
       "    </tr>\n",
       "  </thead>\n",
       "  <tbody>\n",
       "    <tr>\n",
       "      <th>0</th>\n",
       "      <td>const</td>\n",
       "      <td>21.210144</td>\n",
       "    </tr>\n",
       "    <tr>\n",
       "      <th>1</th>\n",
       "      <td>area</td>\n",
       "      <td>1.047046</td>\n",
       "    </tr>\n",
       "    <tr>\n",
       "      <th>2</th>\n",
       "      <td>stories</td>\n",
       "      <td>1.252991</td>\n",
       "    </tr>\n",
       "    <tr>\n",
       "      <th>3</th>\n",
       "      <td>bedrooms</td>\n",
       "      <td>1.311029</td>\n",
       "    </tr>\n",
       "    <tr>\n",
       "      <th>4</th>\n",
       "      <td>bathrooms</td>\n",
       "      <td>1.240516</td>\n",
       "    </tr>\n",
       "  </tbody>\n",
       "</table>\n",
       "</div>"
      ],
      "text/plain": [
       "      column        VIF\n",
       "0      const  21.210144\n",
       "1       area   1.047046\n",
       "2    stories   1.252991\n",
       "3   bedrooms   1.311029\n",
       "4  bathrooms   1.240516"
      ]
     },
     "execution_count": 32,
     "metadata": {},
     "output_type": "execute_result"
    }
   ],
   "source": [
    "get_vif_factors(x)"
   ]
  },
  {
   "cell_type": "code",
   "execution_count": 33,
   "id": "cad3110e",
   "metadata": {},
   "outputs": [],
   "source": [
    "data = pd.get_dummies(data, columns = ['mainroad'], drop_first = True)"
   ]
  },
  {
   "cell_type": "code",
   "execution_count": 34,
   "id": "06d70a33",
   "metadata": {},
   "outputs": [],
   "source": [
    "data = pd.get_dummies(data, columns = ['prefarea'], drop_first = True)"
   ]
  },
  {
   "cell_type": "code",
   "execution_count": 35,
   "id": "fd92bf79",
   "metadata": {},
   "outputs": [],
   "source": [
    "data = pd.get_dummies(data, columns = ['parking'], drop_first = True)"
   ]
  },
  {
   "cell_type": "code",
   "execution_count": 36,
   "id": "4060e87c",
   "metadata": {},
   "outputs": [
    {
     "data": {
      "text/html": [
       "<div>\n",
       "<style scoped>\n",
       "    .dataframe tbody tr th:only-of-type {\n",
       "        vertical-align: middle;\n",
       "    }\n",
       "\n",
       "    .dataframe tbody tr th {\n",
       "        vertical-align: top;\n",
       "    }\n",
       "\n",
       "    .dataframe thead th {\n",
       "        text-align: right;\n",
       "    }\n",
       "</style>\n",
       "<table border=\"1\" class=\"dataframe\">\n",
       "  <thead>\n",
       "    <tr style=\"text-align: right;\">\n",
       "      <th></th>\n",
       "      <th>price</th>\n",
       "      <th>area</th>\n",
       "      <th>bedrooms</th>\n",
       "      <th>bathrooms</th>\n",
       "      <th>stories</th>\n",
       "      <th>guestroom</th>\n",
       "      <th>basement</th>\n",
       "      <th>hotwaterheating</th>\n",
       "      <th>airconditioning</th>\n",
       "      <th>furnishingstatus</th>\n",
       "      <th>mainroad_yes</th>\n",
       "      <th>prefarea_yes</th>\n",
       "      <th>parking_1</th>\n",
       "      <th>parking_2</th>\n",
       "      <th>parking_3</th>\n",
       "    </tr>\n",
       "  </thead>\n",
       "  <tbody>\n",
       "    <tr>\n",
       "      <th>0</th>\n",
       "      <td>13300000</td>\n",
       "      <td>7420</td>\n",
       "      <td>4</td>\n",
       "      <td>2</td>\n",
       "      <td>3</td>\n",
       "      <td>no</td>\n",
       "      <td>no</td>\n",
       "      <td>no</td>\n",
       "      <td>yes</td>\n",
       "      <td>furnished</td>\n",
       "      <td>1</td>\n",
       "      <td>1</td>\n",
       "      <td>0</td>\n",
       "      <td>1</td>\n",
       "      <td>0</td>\n",
       "    </tr>\n",
       "    <tr>\n",
       "      <th>1</th>\n",
       "      <td>12250000</td>\n",
       "      <td>8960</td>\n",
       "      <td>4</td>\n",
       "      <td>4</td>\n",
       "      <td>4</td>\n",
       "      <td>no</td>\n",
       "      <td>no</td>\n",
       "      <td>no</td>\n",
       "      <td>yes</td>\n",
       "      <td>furnished</td>\n",
       "      <td>1</td>\n",
       "      <td>0</td>\n",
       "      <td>0</td>\n",
       "      <td>0</td>\n",
       "      <td>1</td>\n",
       "    </tr>\n",
       "    <tr>\n",
       "      <th>2</th>\n",
       "      <td>12250000</td>\n",
       "      <td>9960</td>\n",
       "      <td>3</td>\n",
       "      <td>2</td>\n",
       "      <td>2</td>\n",
       "      <td>no</td>\n",
       "      <td>yes</td>\n",
       "      <td>no</td>\n",
       "      <td>no</td>\n",
       "      <td>semi-furnished</td>\n",
       "      <td>1</td>\n",
       "      <td>1</td>\n",
       "      <td>0</td>\n",
       "      <td>1</td>\n",
       "      <td>0</td>\n",
       "    </tr>\n",
       "    <tr>\n",
       "      <th>3</th>\n",
       "      <td>12215000</td>\n",
       "      <td>7500</td>\n",
       "      <td>4</td>\n",
       "      <td>2</td>\n",
       "      <td>2</td>\n",
       "      <td>no</td>\n",
       "      <td>yes</td>\n",
       "      <td>no</td>\n",
       "      <td>yes</td>\n",
       "      <td>furnished</td>\n",
       "      <td>1</td>\n",
       "      <td>1</td>\n",
       "      <td>0</td>\n",
       "      <td>0</td>\n",
       "      <td>1</td>\n",
       "    </tr>\n",
       "    <tr>\n",
       "      <th>4</th>\n",
       "      <td>11410000</td>\n",
       "      <td>7420</td>\n",
       "      <td>4</td>\n",
       "      <td>1</td>\n",
       "      <td>2</td>\n",
       "      <td>yes</td>\n",
       "      <td>yes</td>\n",
       "      <td>no</td>\n",
       "      <td>yes</td>\n",
       "      <td>furnished</td>\n",
       "      <td>1</td>\n",
       "      <td>0</td>\n",
       "      <td>0</td>\n",
       "      <td>1</td>\n",
       "      <td>0</td>\n",
       "    </tr>\n",
       "  </tbody>\n",
       "</table>\n",
       "</div>"
      ],
      "text/plain": [
       "      price  area  bedrooms  bathrooms  stories guestroom basement  \\\n",
       "0  13300000  7420         4          2        3        no       no   \n",
       "1  12250000  8960         4          4        4        no       no   \n",
       "2  12250000  9960         3          2        2        no      yes   \n",
       "3  12215000  7500         4          2        2        no      yes   \n",
       "4  11410000  7420         4          1        2       yes      yes   \n",
       "\n",
       "  hotwaterheating airconditioning furnishingstatus  mainroad_yes  \\\n",
       "0              no             yes        furnished             1   \n",
       "1              no             yes        furnished             1   \n",
       "2              no              no   semi-furnished             1   \n",
       "3              no             yes        furnished             1   \n",
       "4              no             yes        furnished             1   \n",
       "\n",
       "   prefarea_yes  parking_1  parking_2  parking_3  \n",
       "0             1          0          1          0  \n",
       "1             0          0          0          1  \n",
       "2             1          0          1          0  \n",
       "3             1          0          0          1  \n",
       "4             0          0          1          0  "
      ]
     },
     "execution_count": 36,
     "metadata": {},
     "output_type": "execute_result"
    }
   ],
   "source": [
    "data.head()"
   ]
  },
  {
   "cell_type": "code",
   "execution_count": null,
   "id": "aeeff7c9",
   "metadata": {},
   "outputs": [],
   "source": []
  },
  {
   "cell_type": "code",
   "execution_count": null,
   "id": "93b93ef3",
   "metadata": {},
   "outputs": [],
   "source": []
  },
  {
   "cell_type": "code",
   "execution_count": 37,
   "id": "6f5be484",
   "metadata": {},
   "outputs": [],
   "source": [
    "y=log_price\n",
    "x=data[['area','stories','bedrooms','bathrooms','mainroad_yes']]"
   ]
  },
  {
   "cell_type": "code",
   "execution_count": 38,
   "id": "1a860061",
   "metadata": {},
   "outputs": [
    {
     "data": {
      "text/html": [
       "<table class=\"simpletable\">\n",
       "<caption>OLS Regression Results</caption>\n",
       "<tr>\n",
       "  <th>Dep. Variable:</th>          <td>price</td>      <th>  R-squared:         </th> <td>   0.549</td>\n",
       "</tr>\n",
       "<tr>\n",
       "  <th>Model:</th>                   <td>OLS</td>       <th>  Adj. R-squared:    </th> <td>   0.545</td>\n",
       "</tr>\n",
       "<tr>\n",
       "  <th>Method:</th>             <td>Least Squares</td>  <th>  F-statistic:       </th> <td>   131.1</td>\n",
       "</tr>\n",
       "<tr>\n",
       "  <th>Date:</th>             <td>Sat, 18 Mar 2023</td> <th>  Prob (F-statistic):</th> <td>1.02e-90</td>\n",
       "</tr>\n",
       "<tr>\n",
       "  <th>Time:</th>                 <td>01:00:42</td>     <th>  Log-Likelihood:    </th> <td> -17.314</td>\n",
       "</tr>\n",
       "<tr>\n",
       "  <th>No. Observations:</th>      <td>   545</td>      <th>  AIC:               </th> <td>   46.63</td>\n",
       "</tr>\n",
       "<tr>\n",
       "  <th>Df Residuals:</th>          <td>   539</td>      <th>  BIC:               </th> <td>   72.43</td>\n",
       "</tr>\n",
       "<tr>\n",
       "  <th>Df Model:</th>              <td>     5</td>      <th>                     </th>     <td> </td>   \n",
       "</tr>\n",
       "<tr>\n",
       "  <th>Covariance Type:</th>      <td>nonrobust</td>    <th>                     </th>     <td> </td>   \n",
       "</tr>\n",
       "</table>\n",
       "<table class=\"simpletable\">\n",
       "<tr>\n",
       "        <td></td>          <th>coef</th>     <th>std err</th>      <th>t</th>      <th>P>|t|</th>  <th>[0.025</th>    <th>0.975]</th>  \n",
       "</tr>\n",
       "<tr>\n",
       "  <th>const</th>        <td>   14.1770</td> <td>    0.054</td> <td>  261.227</td> <td> 0.000</td> <td>   14.070</td> <td>   14.284</td>\n",
       "</tr>\n",
       "<tr>\n",
       "  <th>area</th>         <td> 6.875e-05</td> <td> 5.31e-06</td> <td>   12.944</td> <td> 0.000</td> <td> 5.83e-05</td> <td> 7.92e-05</td>\n",
       "</tr>\n",
       "<tr>\n",
       "  <th>stories</th>      <td>    0.0944</td> <td>    0.014</td> <td>    6.729</td> <td> 0.000</td> <td>    0.067</td> <td>    0.122</td>\n",
       "</tr>\n",
       "<tr>\n",
       "  <th>bedrooms</th>     <td>    0.0577</td> <td>    0.017</td> <td>    3.435</td> <td> 0.001</td> <td>    0.025</td> <td>    0.091</td>\n",
       "</tr>\n",
       "<tr>\n",
       "  <th>bathrooms</th>    <td>    0.2118</td> <td>    0.024</td> <td>    8.871</td> <td> 0.000</td> <td>    0.165</td> <td>    0.259</td>\n",
       "</tr>\n",
       "<tr>\n",
       "  <th>mainroad_yes</th> <td>    0.1886</td> <td>    0.033</td> <td>    5.779</td> <td> 0.000</td> <td>    0.125</td> <td>    0.253</td>\n",
       "</tr>\n",
       "</table>\n",
       "<table class=\"simpletable\">\n",
       "<tr>\n",
       "  <th>Omnibus:</th>       <td> 6.561</td> <th>  Durbin-Watson:     </th> <td>   1.041</td>\n",
       "</tr>\n",
       "<tr>\n",
       "  <th>Prob(Omnibus):</th> <td> 0.038</td> <th>  Jarque-Bera (JB):  </th> <td>   6.883</td>\n",
       "</tr>\n",
       "<tr>\n",
       "  <th>Skew:</th>          <td>-0.197</td> <th>  Prob(JB):          </th> <td>  0.0320</td>\n",
       "</tr>\n",
       "<tr>\n",
       "  <th>Kurtosis:</th>      <td> 3.385</td> <th>  Cond. No.          </th> <td>2.99e+04</td>\n",
       "</tr>\n",
       "</table><br/><br/>Notes:<br/>[1] Standard Errors assume that the covariance matrix of the errors is correctly specified.<br/>[2] The condition number is large, 2.99e+04. This might indicate that there are<br/>strong multicollinearity or other numerical problems."
      ],
      "text/plain": [
       "<class 'statsmodels.iolib.summary.Summary'>\n",
       "\"\"\"\n",
       "                            OLS Regression Results                            \n",
       "==============================================================================\n",
       "Dep. Variable:                  price   R-squared:                       0.549\n",
       "Model:                            OLS   Adj. R-squared:                  0.545\n",
       "Method:                 Least Squares   F-statistic:                     131.1\n",
       "Date:                Sat, 18 Mar 2023   Prob (F-statistic):           1.02e-90\n",
       "Time:                        01:00:42   Log-Likelihood:                -17.314\n",
       "No. Observations:                 545   AIC:                             46.63\n",
       "Df Residuals:                     539   BIC:                             72.43\n",
       "Df Model:                           5                                         \n",
       "Covariance Type:            nonrobust                                         \n",
       "================================================================================\n",
       "                   coef    std err          t      P>|t|      [0.025      0.975]\n",
       "--------------------------------------------------------------------------------\n",
       "const           14.1770      0.054    261.227      0.000      14.070      14.284\n",
       "area          6.875e-05   5.31e-06     12.944      0.000    5.83e-05    7.92e-05\n",
       "stories          0.0944      0.014      6.729      0.000       0.067       0.122\n",
       "bedrooms         0.0577      0.017      3.435      0.001       0.025       0.091\n",
       "bathrooms        0.2118      0.024      8.871      0.000       0.165       0.259\n",
       "mainroad_yes     0.1886      0.033      5.779      0.000       0.125       0.253\n",
       "==============================================================================\n",
       "Omnibus:                        6.561   Durbin-Watson:                   1.041\n",
       "Prob(Omnibus):                  0.038   Jarque-Bera (JB):                6.883\n",
       "Skew:                          -0.197   Prob(JB):                       0.0320\n",
       "Kurtosis:                       3.385   Cond. No.                     2.99e+04\n",
       "==============================================================================\n",
       "\n",
       "Notes:\n",
       "[1] Standard Errors assume that the covariance matrix of the errors is correctly specified.\n",
       "[2] The condition number is large, 2.99e+04. This might indicate that there are\n",
       "strong multicollinearity or other numerical problems.\n",
       "\"\"\""
      ]
     },
     "execution_count": 38,
     "metadata": {},
     "output_type": "execute_result"
    }
   ],
   "source": [
    "x = sm.add_constant(x)\n",
    "model5 = sm.OLS(y, x).fit()\n",
    "model5.summary()"
   ]
  },
  {
   "cell_type": "code",
   "execution_count": 39,
   "id": "ffeb8b6e",
   "metadata": {},
   "outputs": [],
   "source": [
    "y=log_price\n",
    "x=data[['area','stories','bedrooms','bathrooms','mainroad_yes','prefarea_yes']]"
   ]
  },
  {
   "cell_type": "code",
   "execution_count": 40,
   "id": "c8dcfb01",
   "metadata": {},
   "outputs": [
    {
     "data": {
      "text/html": [
       "<table class=\"simpletable\">\n",
       "<caption>OLS Regression Results</caption>\n",
       "<tr>\n",
       "  <th>Dep. Variable:</th>          <td>price</td>      <th>  R-squared:         </th> <td>   0.582</td>\n",
       "</tr>\n",
       "<tr>\n",
       "  <th>Model:</th>                   <td>OLS</td>       <th>  Adj. R-squared:    </th> <td>   0.577</td>\n",
       "</tr>\n",
       "<tr>\n",
       "  <th>Method:</th>             <td>Least Squares</td>  <th>  F-statistic:       </th> <td>   124.6</td>\n",
       "</tr>\n",
       "<tr>\n",
       "  <th>Date:</th>             <td>Sat, 18 Mar 2023</td> <th>  Prob (F-statistic):</th> <td>2.04e-98</td>\n",
       "</tr>\n",
       "<tr>\n",
       "  <th>Time:</th>                 <td>01:00:42</td>     <th>  Log-Likelihood:    </th> <td>  3.2866</td>\n",
       "</tr>\n",
       "<tr>\n",
       "  <th>No. Observations:</th>      <td>   545</td>      <th>  AIC:               </th> <td>   7.427</td>\n",
       "</tr>\n",
       "<tr>\n",
       "  <th>Df Residuals:</th>          <td>   538</td>      <th>  BIC:               </th> <td>   37.53</td>\n",
       "</tr>\n",
       "<tr>\n",
       "  <th>Df Model:</th>              <td>     6</td>      <th>                     </th>     <td> </td>   \n",
       "</tr>\n",
       "<tr>\n",
       "  <th>Covariance Type:</th>      <td>nonrobust</td>    <th>                     </th>     <td> </td>   \n",
       "</tr>\n",
       "</table>\n",
       "<table class=\"simpletable\">\n",
       "<tr>\n",
       "        <td></td>          <th>coef</th>     <th>std err</th>      <th>t</th>      <th>P>|t|</th>  <th>[0.025</th>    <th>0.975]</th>  \n",
       "</tr>\n",
       "<tr>\n",
       "  <th>const</th>        <td>   14.2093</td> <td>    0.053</td> <td>  270.436</td> <td> 0.000</td> <td>   14.106</td> <td>   14.313</td>\n",
       "</tr>\n",
       "<tr>\n",
       "  <th>area</th>         <td> 6.282e-05</td> <td>  5.2e-06</td> <td>   12.081</td> <td> 0.000</td> <td> 5.26e-05</td> <td>  7.3e-05</td>\n",
       "</tr>\n",
       "<tr>\n",
       "  <th>stories</th>      <td>    0.0956</td> <td>    0.014</td> <td>    7.065</td> <td> 0.000</td> <td>    0.069</td> <td>    0.122</td>\n",
       "</tr>\n",
       "<tr>\n",
       "  <th>bedrooms</th>     <td>    0.0523</td> <td>    0.016</td> <td>    3.225</td> <td> 0.001</td> <td>    0.020</td> <td>    0.084</td>\n",
       "</tr>\n",
       "<tr>\n",
       "  <th>bathrooms</th>    <td>    0.2111</td> <td>    0.023</td> <td>    9.174</td> <td> 0.000</td> <td>    0.166</td> <td>    0.256</td>\n",
       "</tr>\n",
       "<tr>\n",
       "  <th>mainroad_yes</th> <td>    0.1586</td> <td>    0.032</td> <td>    4.988</td> <td> 0.000</td> <td>    0.096</td> <td>    0.221</td>\n",
       "</tr>\n",
       "<tr>\n",
       "  <th>prefarea_yes</th> <td>    0.1655</td> <td>    0.025</td> <td>    6.500</td> <td> 0.000</td> <td>    0.115</td> <td>    0.216</td>\n",
       "</tr>\n",
       "</table>\n",
       "<table class=\"simpletable\">\n",
       "<tr>\n",
       "  <th>Omnibus:</th>       <td> 6.348</td> <th>  Durbin-Watson:     </th> <td>   1.056</td>\n",
       "</tr>\n",
       "<tr>\n",
       "  <th>Prob(Omnibus):</th> <td> 0.042</td> <th>  Jarque-Bera (JB):  </th> <td>   8.627</td>\n",
       "</tr>\n",
       "<tr>\n",
       "  <th>Skew:</th>          <td>-0.064</td> <th>  Prob(JB):          </th> <td>  0.0134</td>\n",
       "</tr>\n",
       "<tr>\n",
       "  <th>Kurtosis:</th>      <td> 3.603</td> <th>  Cond. No.          </th> <td>3.01e+04</td>\n",
       "</tr>\n",
       "</table><br/><br/>Notes:<br/>[1] Standard Errors assume that the covariance matrix of the errors is correctly specified.<br/>[2] The condition number is large, 3.01e+04. This might indicate that there are<br/>strong multicollinearity or other numerical problems."
      ],
      "text/plain": [
       "<class 'statsmodels.iolib.summary.Summary'>\n",
       "\"\"\"\n",
       "                            OLS Regression Results                            \n",
       "==============================================================================\n",
       "Dep. Variable:                  price   R-squared:                       0.582\n",
       "Model:                            OLS   Adj. R-squared:                  0.577\n",
       "Method:                 Least Squares   F-statistic:                     124.6\n",
       "Date:                Sat, 18 Mar 2023   Prob (F-statistic):           2.04e-98\n",
       "Time:                        01:00:42   Log-Likelihood:                 3.2866\n",
       "No. Observations:                 545   AIC:                             7.427\n",
       "Df Residuals:                     538   BIC:                             37.53\n",
       "Df Model:                           6                                         \n",
       "Covariance Type:            nonrobust                                         \n",
       "================================================================================\n",
       "                   coef    std err          t      P>|t|      [0.025      0.975]\n",
       "--------------------------------------------------------------------------------\n",
       "const           14.2093      0.053    270.436      0.000      14.106      14.313\n",
       "area          6.282e-05    5.2e-06     12.081      0.000    5.26e-05     7.3e-05\n",
       "stories          0.0956      0.014      7.065      0.000       0.069       0.122\n",
       "bedrooms         0.0523      0.016      3.225      0.001       0.020       0.084\n",
       "bathrooms        0.2111      0.023      9.174      0.000       0.166       0.256\n",
       "mainroad_yes     0.1586      0.032      4.988      0.000       0.096       0.221\n",
       "prefarea_yes     0.1655      0.025      6.500      0.000       0.115       0.216\n",
       "==============================================================================\n",
       "Omnibus:                        6.348   Durbin-Watson:                   1.056\n",
       "Prob(Omnibus):                  0.042   Jarque-Bera (JB):                8.627\n",
       "Skew:                          -0.064   Prob(JB):                       0.0134\n",
       "Kurtosis:                       3.603   Cond. No.                     3.01e+04\n",
       "==============================================================================\n",
       "\n",
       "Notes:\n",
       "[1] Standard Errors assume that the covariance matrix of the errors is correctly specified.\n",
       "[2] The condition number is large, 3.01e+04. This might indicate that there are\n",
       "strong multicollinearity or other numerical problems.\n",
       "\"\"\""
      ]
     },
     "execution_count": 40,
     "metadata": {},
     "output_type": "execute_result"
    }
   ],
   "source": [
    "x = sm.add_constant(x)\n",
    "model6 = sm.OLS(y, x).fit()\n",
    "model6.summary()"
   ]
  },
  {
   "cell_type": "code",
   "execution_count": 51,
   "id": "33605dfb",
   "metadata": {},
   "outputs": [
    {
     "data": {
      "text/plain": [
       "<AxesSubplot:xlabel='price'>"
      ]
     },
     "execution_count": 51,
     "metadata": {},
     "output_type": "execute_result"
    },
    {
     "data": {
      "image/png": "[encoded data removed]",
      "text/plain": [
       "<Figure size 432x288 with 1 Axes>"
      ]
     },
     "metadata": {
      "needs_background": "light"
     },
     "output_type": "display_data"
    }
   ],
   "source": [
    "sns.regplot(x=y, y=model6.fittedvalues, scatter_kws={'alpha':0.5})"
   ]
  },
  {
   "cell_type": "code",
   "execution_count": 41,
   "id": "86f26ab1",
   "metadata": {},
   "outputs": [],
   "source": [
    "y=log_price\n",
    "x=data[['area','stories','bedrooms','bathrooms','mainroad_yes','prefarea_yes','parking_1','parking_2','parking_3']]"
   ]
  },
  {
   "cell_type": "code",
   "execution_count": 63,
   "id": "8531dab5",
   "metadata": {
    "scrolled": true
   },
   "outputs": [
    {
     "data": {
      "text/html": [
       "<table class=\"simpletable\">\n",
       "<caption>OLS Regression Results</caption>\n",
       "<tr>\n",
       "  <th>Dep. Variable:</th>          <td>price</td>      <th>  R-squared:         </th> <td>   0.606</td> \n",
       "</tr>\n",
       "<tr>\n",
       "  <th>Model:</th>                   <td>OLS</td>       <th>  Adj. R-squared:    </th> <td>   0.600</td> \n",
       "</tr>\n",
       "<tr>\n",
       "  <th>Method:</th>             <td>Least Squares</td>  <th>  F-statistic:       </th> <td>   102.9</td> \n",
       "</tr>\n",
       "<tr>\n",
       "  <th>Date:</th>             <td>Sat, 18 Mar 2023</td> <th>  Prob (F-statistic):</th> <td>3.85e-103</td>\n",
       "</tr>\n",
       "<tr>\n",
       "  <th>Time:</th>                 <td>01:33:52</td>     <th>  Log-Likelihood:    </th> <td>  19.378</td> \n",
       "</tr>\n",
       "<tr>\n",
       "  <th>No. Observations:</th>      <td>   545</td>      <th>  AIC:               </th> <td>  -20.76</td> \n",
       "</tr>\n",
       "<tr>\n",
       "  <th>Df Residuals:</th>          <td>   536</td>      <th>  BIC:               </th> <td>   17.95</td> \n",
       "</tr>\n",
       "<tr>\n",
       "  <th>Df Model:</th>              <td>     8</td>      <th>                     </th>     <td> </td>    \n",
       "</tr>\n",
       "<tr>\n",
       "  <th>Covariance Type:</th>      <td>nonrobust</td>    <th>                     </th>     <td> </td>    \n",
       "</tr>\n",
       "</table>\n",
       "<table class=\"simpletable\">\n",
       "<tr>\n",
       "        <td></td>          <th>coef</th>     <th>std err</th>      <th>t</th>      <th>P>|t|</th>  <th>[0.025</th>    <th>0.975]</th>  \n",
       "</tr>\n",
       "<tr>\n",
       "  <th>const</th>        <td>   14.2355</td> <td>    0.052</td> <td>  275.898</td> <td> 0.000</td> <td>   14.134</td> <td>   14.337</td>\n",
       "</tr>\n",
       "<tr>\n",
       "  <th>area</th>         <td> 5.575e-05</td> <td> 5.21e-06</td> <td>   10.704</td> <td> 0.000</td> <td> 4.55e-05</td> <td>  6.6e-05</td>\n",
       "</tr>\n",
       "<tr>\n",
       "  <th>stories</th>      <td>    0.0995</td> <td>    0.013</td> <td>    7.528</td> <td> 0.000</td> <td>    0.074</td> <td>    0.125</td>\n",
       "</tr>\n",
       "<tr>\n",
       "  <th>bedrooms</th>     <td>    0.0470</td> <td>    0.016</td> <td>    2.970</td> <td> 0.003</td> <td>    0.016</td> <td>    0.078</td>\n",
       "</tr>\n",
       "<tr>\n",
       "  <th>bathrooms</th>    <td>    0.1988</td> <td>    0.022</td> <td>    8.840</td> <td> 0.000</td> <td>    0.155</td> <td>    0.243</td>\n",
       "</tr>\n",
       "<tr>\n",
       "  <th>mainroad_yes</th> <td>    0.1393</td> <td>    0.031</td> <td>    4.463</td> <td> 0.000</td> <td>    0.078</td> <td>    0.201</td>\n",
       "</tr>\n",
       "<tr>\n",
       "  <th>prefarea_yes</th> <td>    0.1655</td> <td>    0.025</td> <td>    6.679</td> <td> 0.000</td> <td>    0.117</td> <td>    0.214</td>\n",
       "</tr>\n",
       "<tr>\n",
       "  <th>parking_1</th>    <td>    0.0953</td> <td>    0.025</td> <td>    3.749</td> <td> 0.000</td> <td>    0.045</td> <td>    0.145</td>\n",
       "</tr>\n",
       "<tr>\n",
       "  <th>parking_2</th>    <td>    0.1468</td> <td>    0.028</td> <td>    5.256</td> <td> 0.000</td> <td>    0.092</td> <td>    0.202</td>\n",
       "</tr>\n",
       "</table>\n",
       "<table class=\"simpletable\">\n",
       "<tr>\n",
       "  <th>Omnibus:</th>       <td> 4.496</td> <th>  Durbin-Watson:     </th> <td>   1.090</td>\n",
       "</tr>\n",
       "<tr>\n",
       "  <th>Prob(Omnibus):</th> <td> 0.106</td> <th>  Jarque-Bera (JB):  </th> <td>   4.721</td>\n",
       "</tr>\n",
       "<tr>\n",
       "  <th>Skew:</th>          <td>-0.136</td> <th>  Prob(JB):          </th> <td>  0.0944</td>\n",
       "</tr>\n",
       "<tr>\n",
       "  <th>Kurtosis:</th>      <td> 3.366</td> <th>  Cond. No.          </th> <td>3.05e+04</td>\n",
       "</tr>\n",
       "</table><br/><br/>Notes:<br/>[1] Standard Errors assume that the covariance matrix of the errors is correctly specified.<br/>[2] The condition number is large, 3.05e+04. This might indicate that there are<br/>strong multicollinearity or other numerical problems."
      ],
      "text/plain": [
       "<class 'statsmodels.iolib.summary.Summary'>\n",
       "\"\"\"\n",
       "                            OLS Regression Results                            \n",
       "==============================================================================\n",
       "Dep. Variable:                  price   R-squared:                       0.606\n",
       "Model:                            OLS   Adj. R-squared:                  0.600\n",
       "Method:                 Least Squares   F-statistic:                     102.9\n",
       "Date:                Sat, 18 Mar 2023   Prob (F-statistic):          3.85e-103\n",
       "Time:                        01:33:52   Log-Likelihood:                 19.378\n",
       "No. Observations:                 545   AIC:                            -20.76\n",
       "Df Residuals:                     536   BIC:                             17.95\n",
       "Df Model:                           8                                         \n",
       "Covariance Type:            nonrobust                                         \n",
       "================================================================================\n",
       "                   coef    std err          t      P>|t|      [0.025      0.975]\n",
       "--------------------------------------------------------------------------------\n",
       "const           14.2355      0.052    275.898      0.000      14.134      14.337\n",
       "area          5.575e-05   5.21e-06     10.704      0.000    4.55e-05     6.6e-05\n",
       "stories          0.0995      0.013      7.528      0.000       0.074       0.125\n",
       "bedrooms         0.0470      0.016      2.970      0.003       0.016       0.078\n",
       "bathrooms        0.1988      0.022      8.840      0.000       0.155       0.243\n",
       "mainroad_yes     0.1393      0.031      4.463      0.000       0.078       0.201\n",
       "prefarea_yes     0.1655      0.025      6.679      0.000       0.117       0.214\n",
       "parking_1        0.0953      0.025      3.749      0.000       0.045       0.145\n",
       "parking_2        0.1468      0.028      5.256      0.000       0.092       0.202\n",
       "==============================================================================\n",
       "Omnibus:                        4.496   Durbin-Watson:                   1.090\n",
       "Prob(Omnibus):                  0.106   Jarque-Bera (JB):                4.721\n",
       "Skew:                          -0.136   Prob(JB):                       0.0944\n",
       "Kurtosis:                       3.366   Cond. No.                     3.05e+04\n",
       "==============================================================================\n",
       "\n",
       "Notes:\n",
       "[1] Standard Errors assume that the covariance matrix of the errors is correctly specified.\n",
       "[2] The condition number is large, 3.05e+04. This might indicate that there are\n",
       "strong multicollinearity or other numerical problems.\n",
       "\"\"\""
      ]
     },
     "execution_count": 63,
     "metadata": {},
     "output_type": "execute_result"
    }
   ],
   "source": [
    "x = sm.add_constant(x)\n",
    "model7 = sm.OLS(y, x).fit()\n",
    "model7.summary()"
   ]
  },
  {
   "cell_type": "code",
   "execution_count": 47,
   "id": "6a9a9de5",
   "metadata": {},
   "outputs": [],
   "source": [
    "y=log_price\n",
    "x=data[['area','stories','bedrooms','bathrooms','mainroad_yes','prefarea_yes','parking_1','parking_2']]"
   ]
  },
  {
   "cell_type": "code",
   "execution_count": 64,
   "id": "8593edf8",
   "metadata": {},
   "outputs": [
    {
     "name": "stdout",
     "output_type": "stream",
     "text": [
      "Critical value of F-statistic:  1.9556659800665903\n"
     ]
    }
   ],
   "source": [
    "from scipy.stats import f\n",
    "\n",
    "# Set the degrees of freedom for the numerator and denominator\n",
    "dfn = 8 # degrees of freedom for numerator\n",
    "dfd = 536 # degrees of freedom for denominator\n",
    "alpha = 0.05 # significance level\n",
    "\n",
    "# Calculate the critical value for the F-statistic\n",
    "f_crit = f.ppf(q=1-alpha, dfn=dfn, dfd=dfd)\n",
    "\n",
    "print(\"Critical value of F-statistic: \", f_crit)"
   ]
  },
  {
   "cell_type": "code",
   "execution_count": 48,
   "id": "1b46bfb8",
   "metadata": {},
   "outputs": [
    {
     "data": {
      "text/html": [
       "<table class=\"simpletable\">\n",
       "<caption>OLS Regression Results</caption>\n",
       "<tr>\n",
       "  <th>Dep. Variable:</th>          <td>price</td>      <th>  R-squared:         </th> <td>   0.606</td> \n",
       "</tr>\n",
       "<tr>\n",
       "  <th>Model:</th>                   <td>OLS</td>       <th>  Adj. R-squared:    </th> <td>   0.600</td> \n",
       "</tr>\n",
       "<tr>\n",
       "  <th>Method:</th>             <td>Least Squares</td>  <th>  F-statistic:       </th> <td>   102.9</td> \n",
       "</tr>\n",
       "<tr>\n",
       "  <th>Date:</th>             <td>Sat, 18 Mar 2023</td> <th>  Prob (F-statistic):</th> <td>3.85e-103</td>\n",
       "</tr>\n",
       "<tr>\n",
       "  <th>Time:</th>                 <td>01:05:10</td>     <th>  Log-Likelihood:    </th> <td>  19.378</td> \n",
       "</tr>\n",
       "<tr>\n",
       "  <th>No. Observations:</th>      <td>   545</td>      <th>  AIC:               </th> <td>  -20.76</td> \n",
       "</tr>\n",
       "<tr>\n",
       "  <th>Df Residuals:</th>          <td>   536</td>      <th>  BIC:               </th> <td>   17.95</td> \n",
       "</tr>\n",
       "<tr>\n",
       "  <th>Df Model:</th>              <td>     8</td>      <th>                     </th>     <td> </td>    \n",
       "</tr>\n",
       "<tr>\n",
       "  <th>Covariance Type:</th>      <td>nonrobust</td>    <th>                     </th>     <td> </td>    \n",
       "</tr>\n",
       "</table>\n",
       "<table class=\"simpletable\">\n",
       "<tr>\n",
       "        <td></td>          <th>coef</th>     <th>std err</th>      <th>t</th>      <th>P>|t|</th>  <th>[0.025</th>    <th>0.975]</th>  \n",
       "</tr>\n",
       "<tr>\n",
       "  <th>const</th>        <td>   14.2355</td> <td>    0.052</td> <td>  275.898</td> <td> 0.000</td> <td>   14.134</td> <td>   14.337</td>\n",
       "</tr>\n",
       "<tr>\n",
       "  <th>area</th>         <td> 5.575e-05</td> <td> 5.21e-06</td> <td>   10.704</td> <td> 0.000</td> <td> 4.55e-05</td> <td>  6.6e-05</td>\n",
       "</tr>\n",
       "<tr>\n",
       "  <th>stories</th>      <td>    0.0995</td> <td>    0.013</td> <td>    7.528</td> <td> 0.000</td> <td>    0.074</td> <td>    0.125</td>\n",
       "</tr>\n",
       "<tr>\n",
       "  <th>bedrooms</th>     <td>    0.0470</td> <td>    0.016</td> <td>    2.970</td> <td> 0.003</td> <td>    0.016</td> <td>    0.078</td>\n",
       "</tr>\n",
       "<tr>\n",
       "  <th>bathrooms</th>    <td>    0.1988</td> <td>    0.022</td> <td>    8.840</td> <td> 0.000</td> <td>    0.155</td> <td>    0.243</td>\n",
       "</tr>\n",
       "<tr>\n",
       "  <th>mainroad_yes</th> <td>    0.1393</td> <td>    0.031</td> <td>    4.463</td> <td> 0.000</td> <td>    0.078</td> <td>    0.201</td>\n",
       "</tr>\n",
       "<tr>\n",
       "  <th>prefarea_yes</th> <td>    0.1655</td> <td>    0.025</td> <td>    6.679</td> <td> 0.000</td> <td>    0.117</td> <td>    0.214</td>\n",
       "</tr>\n",
       "<tr>\n",
       "  <th>parking_1</th>    <td>    0.0953</td> <td>    0.025</td> <td>    3.749</td> <td> 0.000</td> <td>    0.045</td> <td>    0.145</td>\n",
       "</tr>\n",
       "<tr>\n",
       "  <th>parking_2</th>    <td>    0.1468</td> <td>    0.028</td> <td>    5.256</td> <td> 0.000</td> <td>    0.092</td> <td>    0.202</td>\n",
       "</tr>\n",
       "</table>\n",
       "<table class=\"simpletable\">\n",
       "<tr>\n",
       "  <th>Omnibus:</th>       <td> 4.496</td> <th>  Durbin-Watson:     </th> <td>   1.090</td>\n",
       "</tr>\n",
       "<tr>\n",
       "  <th>Prob(Omnibus):</th> <td> 0.106</td> <th>  Jarque-Bera (JB):  </th> <td>   4.721</td>\n",
       "</tr>\n",
       "<tr>\n",
       "  <th>Skew:</th>          <td>-0.136</td> <th>  Prob(JB):          </th> <td>  0.0944</td>\n",
       "</tr>\n",
       "<tr>\n",
       "  <th>Kurtosis:</th>      <td> 3.366</td> <th>  Cond. No.          </th> <td>3.05e+04</td>\n",
       "</tr>\n",
       "</table><br/><br/>Notes:<br/>[1] Standard Errors assume that the covariance matrix of the errors is correctly specified.<br/>[2] The condition number is large, 3.05e+04. This might indicate that there are<br/>strong multicollinearity or other numerical problems."
      ],
      "text/plain": [
       "<class 'statsmodels.iolib.summary.Summary'>\n",
       "\"\"\"\n",
       "                            OLS Regression Results                            \n",
       "==============================================================================\n",
       "Dep. Variable:                  price   R-squared:                       0.606\n",
       "Model:                            OLS   Adj. R-squared:                  0.600\n",
       "Method:                 Least Squares   F-statistic:                     102.9\n",
       "Date:                Sat, 18 Mar 2023   Prob (F-statistic):          3.85e-103\n",
       "Time:                        01:05:10   Log-Likelihood:                 19.378\n",
       "No. Observations:                 545   AIC:                            -20.76\n",
       "Df Residuals:                     536   BIC:                             17.95\n",
       "Df Model:                           8                                         \n",
       "Covariance Type:            nonrobust                                         \n",
       "================================================================================\n",
       "                   coef    std err          t      P>|t|      [0.025      0.975]\n",
       "--------------------------------------------------------------------------------\n",
       "const           14.2355      0.052    275.898      0.000      14.134      14.337\n",
       "area          5.575e-05   5.21e-06     10.704      0.000    4.55e-05     6.6e-05\n",
       "stories          0.0995      0.013      7.528      0.000       0.074       0.125\n",
       "bedrooms         0.0470      0.016      2.970      0.003       0.016       0.078\n",
       "bathrooms        0.1988      0.022      8.840      0.000       0.155       0.243\n",
       "mainroad_yes     0.1393      0.031      4.463      0.000       0.078       0.201\n",
       "prefarea_yes     0.1655      0.025      6.679      0.000       0.117       0.214\n",
       "parking_1        0.0953      0.025      3.749      0.000       0.045       0.145\n",
       "parking_2        0.1468      0.028      5.256      0.000       0.092       0.202\n",
       "==============================================================================\n",
       "Omnibus:                        4.496   Durbin-Watson:                   1.090\n",
       "Prob(Omnibus):                  0.106   Jarque-Bera (JB):                4.721\n",
       "Skew:                          -0.136   Prob(JB):                       0.0944\n",
       "Kurtosis:                       3.366   Cond. No.                     3.05e+04\n",
       "==============================================================================\n",
       "\n",
       "Notes:\n",
       "[1] Standard Errors assume that the covariance matrix of the errors is correctly specified.\n",
       "[2] The condition number is large, 3.05e+04. This might indicate that there are\n",
       "strong multicollinearity or other numerical problems.\n",
       "\"\"\""
      ]
     },
     "execution_count": 48,
     "metadata": {},
     "output_type": "execute_result"
    }
   ],
   "source": [
    "x = sm.add_constant(x)\n",
    "model8 = sm.OLS(y, x).fit()\n",
    "model8.summary()"
   ]
  },
  {
   "cell_type": "code",
   "execution_count": 54,
   "id": "6cd60d5d",
   "metadata": {},
   "outputs": [
    {
     "data": {
      "text/plain": [
       "<AxesSubplot:xlabel='price'>"
      ]
     },
     "execution_count": 54,
     "metadata": {},
     "output_type": "execute_result"
    },
    {
     "data": {
      "image/png": "[encoded data removed]",
      "text/plain": [
       "<Figure size 432x288 with 1 Axes>"
      ]
     },
     "metadata": {
      "needs_background": "light"
     },
     "output_type": "display_data"
    }
   ],
   "source": [
    "sns.regplot(x=y, y=model8.fittedvalues, scatter_kws={'alpha':0.5})"
   ]
  }
 ],
 "metadata": {
  "kernelspec": {
   "display_name": "Python 3 (ipykernel)",
   "language": "python",
   "name": "python3"
  },
  "language_info": {
   "codemirror_mode": {
    "name": "ipython",
    "version": 3
   },
   "file_extension": ".py",
   "mimetype": "text/x-python",
   "name": "python",
   "nbconvert_exporter": "python",
   "pygments_lexer": "ipython3",
   "version": "3.9.12"
  }
 },
 "nbformat": 4,
 "nbformat_minor": 5
}
